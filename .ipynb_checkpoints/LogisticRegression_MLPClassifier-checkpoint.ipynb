{
 "cells": [
  {
   "cell_type": "code",
   "execution_count": 1,
   "metadata": {},
   "outputs": [
    {
     "name": "stdout",
     "output_type": "stream",
     "text": [
      "Requirement already satisfied: konlpy in c:\\users\\jungs\\anaconda3\\envs\\py36\\lib\\site-packages (0.5.1)\n",
      "Requirement already satisfied: JPype1>=0.5.7 in c:\\users\\jungs\\anaconda3\\envs\\py36\\lib\\site-packages (from konlpy) (0.7.0)\n",
      "Note: you may need to restart the kernel to use updated packages.\n"
     ]
    }
   ],
   "source": [
    "pip install konlpy"
   ]
  },
  {
   "cell_type": "code",
   "execution_count": 2,
   "metadata": {},
   "outputs": [
    {
     "name": "stdout",
     "output_type": "stream",
     "text": [
      "Collecting gensim\n",
      "  Downloading https://files.pythonhosted.org/packages/e2/a6/ec7a2b8bb0a0cd864e437e1984398893f959592dc0d702ffffb1683fe7e3/gensim-3.8.1-cp36-cp36m-win_amd64.whl (24.2MB)\n",
      "Requirement already satisfied, skipping upgrade: scipy>=0.18.1 in c:\\users\\jungs\\anaconda3\\envs\\py36\\lib\\site-packages (from gensim) (1.3.1)\n",
      "Collecting smart-open>=1.8.1\n",
      "  Using cached https://files.pythonhosted.org/packages/0c/09/735f2786dfac9bbf39d244ce75c0313d27d4962e71e0774750dc809f2395/smart_open-1.9.0.tar.gz\n",
      "Requirement already satisfied, skipping upgrade: numpy>=1.11.3 in c:\\users\\jungs\\anaconda3\\envs\\py36\\lib\\site-packages (from gensim) (1.16.5)\n",
      "Requirement already satisfied, skipping upgrade: six>=1.5.0 in c:\\users\\jungs\\anaconda3\\envs\\py36\\lib\\site-packages (from gensim) (1.12.0)\n",
      "Requirement already satisfied, skipping upgrade: boto>=2.32 in c:\\users\\jungs\\anaconda3\\envs\\py36\\lib\\site-packages (from smart-open>=1.8.1->gensim) (2.49.0)\n",
      "Requirement already satisfied, skipping upgrade: requests in c:\\users\\jungs\\anaconda3\\envs\\py36\\lib\\site-packages (from smart-open>=1.8.1->gensim) (2.22.0)\n",
      "Collecting boto3\n",
      "  Downloading https://files.pythonhosted.org/packages/67/17/567f679dac6ec93611ce05637094e9736afa40e41c9ed0aaefd90de6f7e8/boto3-1.10.28-py2.py3-none-any.whl (128kB)\n",
      "Requirement already satisfied, skipping upgrade: chardet<3.1.0,>=3.0.2 in c:\\users\\jungs\\anaconda3\\envs\\py36\\lib\\site-packages (from requests->smart-open>=1.8.1->gensim) (3.0.4)\n",
      "Requirement already satisfied, skipping upgrade: idna<2.9,>=2.5 in c:\\users\\jungs\\anaconda3\\envs\\py36\\lib\\site-packages (from requests->smart-open>=1.8.1->gensim) (2.8)\n",
      "Requirement already satisfied, skipping upgrade: certifi>=2017.4.17 in c:\\users\\jungs\\anaconda3\\envs\\py36\\lib\\site-packages (from requests->smart-open>=1.8.1->gensim) (2019.9.11)\n",
      "Requirement already satisfied, skipping upgrade: urllib3!=1.25.0,!=1.25.1,<1.26,>=1.21.1 in c:\\users\\jungs\\anaconda3\\envs\\py36\\lib\\site-packages (from requests->smart-open>=1.8.1->gensim) (1.24.2)\n",
      "Collecting jmespath<1.0.0,>=0.7.1\n",
      "  Using cached https://files.pythonhosted.org/packages/83/94/7179c3832a6d45b266ddb2aac329e101367fbdb11f425f13771d27f225bb/jmespath-0.9.4-py2.py3-none-any.whl\n",
      "Collecting s3transfer<0.3.0,>=0.2.0\n",
      "  Using cached https://files.pythonhosted.org/packages/16/8a/1fc3dba0c4923c2a76e1ff0d52b305c44606da63f718d14d3231e21c51b0/s3transfer-0.2.1-py2.py3-none-any.whl\n",
      "Collecting botocore<1.14.0,>=1.13.28\n",
      "  Downloading https://files.pythonhosted.org/packages/8e/b3/ab9044d3aa14208f5b6f69665d5f82ad9b028809666e4e70dac1ab0bfd3a/botocore-1.13.28-py2.py3-none-any.whl (5.7MB)\n",
      "Requirement already satisfied, skipping upgrade: python-dateutil<2.8.1,>=2.1; python_version >= \"2.7\" in c:\\users\\jungs\\anaconda3\\envs\\py36\\lib\\site-packages (from botocore<1.14.0,>=1.13.28->boto3->smart-open>=1.8.1->gensim) (2.8.0)\n",
      "Requirement already satisfied, skipping upgrade: docutils<0.16,>=0.10 in c:\\users\\jungs\\anaconda3\\envs\\py36\\lib\\site-packages (from botocore<1.14.0,>=1.13.28->boto3->smart-open>=1.8.1->gensim) (0.15.2)\n",
      "Building wheels for collected packages: smart-open\n",
      "  Building wheel for smart-open (setup.py): started\n",
      "  Building wheel for smart-open (setup.py): finished with status 'done'\n",
      "  Created wheel for smart-open: filename=smart_open-1.9.0-cp36-none-any.whl size=73092 sha256=3c793e908f1ba85899505b5a54a5bfef3c21b08a2695813eef7bed7bbe7cc9cd\n",
      "  Stored in directory: C:\\Users\\jungs\\AppData\\Local\\pip\\Cache\\wheels\\ab\\10\\93\\5cff86f5b721d77edaecc29959b1c60d894be1f66d91407d28\n",
      "Successfully built smart-open\n",
      "Installing collected packages: jmespath, botocore, s3transfer, boto3, smart-open, gensim\n",
      "Successfully installed boto3-1.10.28 botocore-1.13.28 gensim-3.8.1 jmespath-0.9.4 s3transfer-0.2.1 smart-open-1.9.0\n",
      "Note: you may need to restart the kernel to use updated packages.\n"
     ]
    }
   ],
   "source": [
    "pip install --upgrade gensim"
   ]
  },
  {
   "cell_type": "code",
   "execution_count": 3,
   "metadata": {},
   "outputs": [
    {
     "name": "stdout",
     "output_type": "stream",
     "text": [
      "Collecting utils\n",
      "  Downloading https://files.pythonhosted.org/packages/9b/de/9ffaf89be661b32d1e0cff05e1af5e4fc2d608c47498975e94aca219aed4/utils-0.9.0-py2.py3-none-any.whl\n",
      "Installing collected packages: utils\n",
      "Successfully installed utils-0.9.0\n",
      "Note: you may need to restart the kernel to use updated packages.\n"
     ]
    }
   ],
   "source": [
    "pip install utils"
   ]
  },
  {
   "cell_type": "code",
   "execution_count": 4,
   "metadata": {},
   "outputs": [
    {
     "name": "stdout",
     "output_type": "stream",
     "text": [
      "Requirement already satisfied: nltk in c:\\users\\jungs\\anaconda3\\envs\\py36\\lib\\site-packages (3.4.5)\n",
      "Requirement already satisfied: six in c:\\users\\jungs\\anaconda3\\envs\\py36\\lib\\site-packages (from nltk) (1.12.0)\n",
      "Note: you may need to restart the kernel to use updated packages.\n"
     ]
    }
   ],
   "source": [
    "pip install nltk"
   ]
  },
  {
   "cell_type": "code",
   "execution_count": 1,
   "metadata": {},
   "outputs": [
    {
     "name": "stderr",
     "output_type": "stream",
     "text": [
      "[nltk_data] Downloading package stopwords to\n",
      "[nltk_data]     C:\\Users\\jungs\\AppData\\Roaming\\nltk_data...\n",
      "[nltk_data]   Package stopwords is already up-to-date!\n"
     ]
    },
    {
     "data": {
      "text/plain": [
       "True"
      ]
     },
     "execution_count": 1,
     "metadata": {},
     "output_type": "execute_result"
    }
   ],
   "source": [
    "import nltk\n",
    "nltk.download('stopwords')"
   ]
  },
  {
   "cell_type": "code",
   "execution_count": 2,
   "metadata": {},
   "outputs": [],
   "source": [
    "from matplotlib import font_manager, rc\n",
    "font_fname = 'c:/windows/fonts/gulim.ttc'     # A font of your choice\n",
    "font_name = font_manager.FontProperties(fname=font_fname).get_name()\n",
    "rc('font', family=font_name)"
   ]
  },
  {
   "cell_type": "code",
   "execution_count": 3,
   "metadata": {},
   "outputs": [],
   "source": [
    "import torch\n",
    "from time import time\n",
    "import numpy as np\n",
    "import pandas as pd\n",
    "from sklearn.metrics import accuracy_score\n",
    "from sklearn.feature_extraction.text import CountVectorizer\n",
    "from sklearn.feature_extraction.text import TfidfVectorizer"
   ]
  },
  {
   "cell_type": "code",
   "execution_count": 4,
   "metadata": {},
   "outputs": [],
   "source": [
    "import warnings\n",
    "warnings.filterwarnings(\"ignore\", category=FutureWarning)"
   ]
  },
  {
   "cell_type": "code",
   "execution_count": 5,
   "metadata": {},
   "outputs": [
    {
     "name": "stdout",
     "output_type": "stream",
     "text": [
      "False\n"
     ]
    }
   ],
   "source": [
    "use_cuda = torch.cuda.is_available()\n",
    "print(use_cuda)"
   ]
  },
  {
   "cell_type": "code",
   "execution_count": 33,
   "metadata": {},
   "outputs": [],
   "source": [
    "def read_data(filename):\n",
    "    with open(filename, 'r', encoding='UTF8') as f:\n",
    "        data = [line.split('\\t') for line in f.read().splitlines()]\n",
    "    return data\n",
    "train_data = read_data('E:\\\\nlp\\\\data\\\\ho_train.txt')\n",
    "test_data = read_data('E:\\\\nlp\\\\data\\\\ho_test.txt')"
   ]
  },
  {
   "cell_type": "code",
   "execution_count": 37,
   "metadata": {
    "scrolled": true
   },
   "outputs": [
    {
     "name": "stdout",
     "output_type": "stream",
     "text": [
      "3000\n",
      "2\n",
      "1092\n",
      "2\n"
     ]
    }
   ],
   "source": [
    "print(len(train_data))\n",
    "print(len(train_data[0]))\n",
    "print(len(test_data))\n",
    "print(len(test_data[0]))"
   ]
  },
  {
   "cell_type": "code",
   "execution_count": 66,
   "metadata": {},
   "outputs": [
    {
     "name": "stdout",
     "output_type": "stream",
     "text": [
      "Time: 10.278098s\n"
     ]
    }
   ],
   "source": [
    "start = time()\n",
    "import konlpy\n",
    "from konlpy.tag import Okt\n",
    "from konlpy.utils import pprint\n",
    "pos_tagger = Okt()\n",
    "def tokenize(doc):\n",
    "    return ['/'.join(t) for t in pos_tagger.pos(doc, norm=True, stem=True)]\n",
    "train_docs = [(tokenize(row[0]), row[1]) for row in train_data]\n",
    "test_docs = [(tokenize(row[0]), row[1]) for row in test_data]\n",
    "\n",
    "end = time()\n",
    "print('Time: {:f}s'.format(end-start))"
   ]
  },
  {
   "cell_type": "code",
   "execution_count": 78,
   "metadata": {},
   "outputs": [
    {
     "name": "stdout",
     "output_type": "stream",
     "text": [
      "40887\n",
      "4918\n",
      "[('./Punctuation', 1467),\n",
      " ('하다/Verb', 1385),\n",
      " ('을/Josa', 934),\n",
      " (',/Punctuation', 887),\n",
      " ('이/Josa', 846),\n",
      " ('\"/Punctuation', 753),\n",
      " ('가/Josa', 664),\n",
      " ('에/Josa', 628),\n",
      " ('.\"/Punctuation', 604),\n",
      " ('를/Josa', 499)]\n"
     ]
    }
   ],
   "source": [
    "import nltk\n",
    "text = nltk.Text(tokens, name='NMSC')\n",
    "\n",
    "# 전체 토큰의 개수\n",
    "print(len(text.tokens))\n",
    "\n",
    "# 중복을 제외한 토큰의 개수\n",
    "print(len(set(text.tokens)))            \n",
    "\n",
    "# 출현 빈도가 높은 상위 토큰 10개\n",
    "pprint(text.vocab().most_common(10))"
   ]
  },
  {
   "cell_type": "code",
   "execution_count": 79,
   "metadata": {},
   "outputs": [
    {
     "data": {
      "image/png": "[encoded data removed]",
      "text/plain": [
       "<Figure size 1440x720 with 1 Axes>"
      ]
     },
     "metadata": {
      "needs_background": "light"
     },
     "output_type": "display_data"
    }
   ],
   "source": [
    "import matplotlib.pyplot as plt\n",
    "from matplotlib import font_manager, rc\n",
    "%matplotlib inline\n",
    "\n",
    "font_fname = 'c:/windows/fonts/gulim.ttc'\n",
    "font_name = font_manager.FontProperties(fname=font_fname).get_name()\n",
    "rc('font', family=font_name)\n",
    "\n",
    "plt.figure(figsize=(20,10))\n",
    "text.plot(50)"
   ]
  },
  {
   "cell_type": "code",
   "execution_count": 80,
   "metadata": {},
   "outputs": [],
   "source": [
    "selected_words = [f[0] for f in text.vocab().most_common(1000)]\n",
    "\n",
    "def term_frequency(doc):\n",
    "    return [doc.count(word) for word in selected_words]\n",
    "\n",
    "train_x = [term_frequency(d) for d, _ in train_docs]\n",
    "test_x = [term_frequency(d) for d, _ in test_docs]\n",
    "train_y = [c for _, c in train_docs]\n",
    "test_y = [c for _, c in test_docs]"
   ]
  },
  {
   "cell_type": "code",
   "execution_count": 81,
   "metadata": {},
   "outputs": [],
   "source": [
    "import numpy as np\n",
    "\n",
    "x_train = np.asarray(train_x).astype('float32')\n",
    "x_test = np.asarray(test_x).astype('float32')\n",
    "\n",
    "y_train = np.asarray(train_y).astype('float32')\n",
    "y_test = np.asarray(test_y).astype('float32')"
   ]
  },
  {
   "cell_type": "code",
   "execution_count": 87,
   "metadata": {},
   "outputs": [
    {
     "name": "stdout",
     "output_type": "stream",
     "text": [
      "Epoch 1/10\n",
      "3000/3000 [==============================]3000/3000 [==============================] - 0s 102us/step - loss: 0.1417 - binary_accuracy: 0.2303\n",
      "\n",
      "Epoch 2/10\n",
      "3000/3000 [==============================]3000/3000 [==============================] - 0s 21us/step - loss: -1.0709 - binary_accuracy: 0.2323\n",
      "\n",
      "Epoch 3/10\n",
      "3000/3000 [==============================]3000/3000 [==============================] - 0s 20us/step - loss: -2.5961 - binary_accuracy: 0.2323\n",
      "\n",
      "Epoch 4/10\n",
      "3000/3000 [==============================]3000/3000 [==============================] - 0s 22us/step - loss: -4.4549 - binary_accuracy: 0.2323\n",
      "\n",
      "Epoch 5/10\n",
      "3000/3000 [==============================]3000/3000 [==============================] - 0s 22us/step - loss: -6.4707 - binary_accuracy: 0.2323\n",
      "\n",
      "Epoch 6/10\n",
      "3000/3000 [==============================]3000/3000 [==============================] - 0s 21us/step - loss: -8.2117 - binary_accuracy: 0.2323\n",
      "\n",
      "Epoch 7/10\n",
      "3000/3000 [==============================]3000/3000 [==============================] - 0s 23us/step - loss: -9.5278 - binary_accuracy: 0.2323\n",
      "\n",
      "Epoch 8/10\n",
      "3000/3000 [==============================]3000/3000 [==============================] - 0s 20us/step - loss: -10.5070 - binary_accuracy: 0.2323\n",
      "\n",
      "Epoch 9/10\n",
      "3000/3000 [==============================]3000/3000 [==============================] - 0s 30us/step - loss: -11.1957 - binary_accuracy: 0.2323\n",
      "\n",
      "Epoch 10/10\n",
      "3000/3000 [==============================]3000/3000 [==============================] - 0s 26us/step - loss: -11.6553 - binary_accuracy: 0.2323\n",
      "\n",
      "1092/1092 [==============================]1092/1092 [==============================] - 0s 139us/step\n",
      "\n"
     ]
    }
   ],
   "source": [
    "from tensorflow.python.keras import models\n",
    "from tensorflow.python.keras import layers\n",
    "from tensorflow.python.keras import optimizers\n",
    "from tensorflow.python.keras import losses\n",
    "from tensorflow.python.keras import metrics\n",
    "\n",
    "model = models.Sequential()\n",
    "model.add(layers.Dense(64, activation='relu', input_shape=(1000,)))\n",
    "model.add(layers.Dense(64, activation='relu'))\n",
    "model.add(layers.Dense(1, activation='sigmoid'))\n",
    "\n",
    "model.compile(optimizer=optimizers.RMSprop(lr=0.001),\n",
    "             loss=losses.binary_crossentropy,\n",
    "             metrics=[metrics.binary_accuracy])\n",
    "\n",
    "model.fit(x_train, y_train, epochs=10, batch_size=512)\n",
    "results = model.evaluate(x_test, y_test)"
   ]
  },
  {
   "cell_type": "code",
   "execution_count": 85,
   "metadata": {},
   "outputs": [
    {
     "data": {
      "text/plain": [
       "[-14.204124712682033, 0.09798534798534798]"
      ]
     },
     "execution_count": 85,
     "metadata": {},
     "output_type": "execute_result"
    }
   ],
   "source": [
    "results"
   ]
  },
  {
   "cell_type": "code",
   "execution_count": 67,
   "metadata": {},
   "outputs": [],
   "source": [
    "from collections import namedtuple\n",
    "TaggedDocument = namedtuple('TaggedDocument', 'words tags')\n",
    "\n",
    "\n",
    "tagged_train_docs = [TaggedDocument(d, [c]) for d, c in train_docs]\n",
    "tagged_test_docs = [TaggedDocument(d, [c]) for d, c in test_docs]"
   ]
  },
  {
   "cell_type": "code",
   "execution_count": 68,
   "metadata": {},
   "outputs": [],
   "source": [
    "from gensim.models import doc2vec\n",
    "doc_vectorizer = doc2vec.Doc2Vec(vector_size=300, alpha=0.025, min_alpha=0.025, seed=1234)\n",
    "doc_vectorizer.build_vocab(tagged_train_docs)\n",
    "for epoch in range(10):\n",
    "    doc_vectorizer.train(tagged_train_docs,epochs=10,total_examples=doc_vectorizer.corpus_count)\n",
    "    doc_vectorizer.alpha -= 0.002  \n",
    "    doc_vectorizer.min_alpha = doc_vectorizer.alpha"
   ]
  },
  {
   "cell_type": "code",
   "execution_count": 69,
   "metadata": {},
   "outputs": [],
   "source": [
    "train_x = [doc_vectorizer.infer_vector(doc.words) for doc in tagged_train_docs]\n",
    "train_y = [doc.tags[0] for doc in tagged_train_docs]\n",
    "test_x = [doc_vectorizer.infer_vector(doc.words) for doc in tagged_test_docs]\n",
    "test_y = [doc.tags[0] for doc in tagged_test_docs]"
   ]
  },
  {
   "cell_type": "code",
   "execution_count": 70,
   "metadata": {},
   "outputs": [],
   "source": [
    "# train_x = np.asarray(train_x).astype('float32')\n",
    "# test_y = np.asarray(test_x).astype('float32')\n",
    "\n",
    "# train_x = np.asarray(train_y).astype('float32')\n",
    "# test_y = np.asarray(test_y).astype('float32')"
   ]
  },
  {
   "cell_type": "code",
   "execution_count": 71,
   "metadata": {},
   "outputs": [
    {
     "data": {
      "text/plain": [
       "0.6593406593406593"
      ]
     },
     "execution_count": 71,
     "metadata": {},
     "output_type": "execute_result"
    }
   ],
   "source": [
    "from sklearn.linear_model import LogisticRegression\n",
    "classifier = LogisticRegression(random_state=1234)\n",
    "classifier.fit(train_x, train_y)\n",
    "classifier.score(test_x, test_y)"
   ]
  },
  {
   "cell_type": "code",
   "execution_count": 72,
   "metadata": {},
   "outputs": [],
   "source": [
    "from sklearn.neural_network import MLPClassifier"
   ]
  },
  {
   "cell_type": "code",
   "execution_count": 73,
   "metadata": {},
   "outputs": [],
   "source": [
    "model = MLPClassifier(\n",
    "    hidden_layer_sizes=(50,),\n",
    "    max_iter=30,\n",
    "    alpha=1e-4,\n",
    "    solver='adam',\n",
    "    verbose=10,\n",
    "    tol=1e-4,\n",
    "    random_state=1,\n",
    "    learning_rate_init=0.01\n",
    ")"
   ]
  },
  {
   "cell_type": "code",
   "execution_count": 74,
   "metadata": {},
   "outputs": [
    {
     "name": "stdout",
     "output_type": "stream",
     "text": [
      "Iteration 1, loss = 1.34409514\n",
      "Iteration 2, loss = 1.22417603\n",
      "Iteration 3, loss = 1.18817635\n",
      "Iteration 4, loss = 1.14911274\n",
      "Iteration 5, loss = 1.12080085\n",
      "Iteration 6, loss = 1.09268205\n",
      "Iteration 7, loss = 1.06655285\n",
      "Iteration 8, loss = 1.03665669\n",
      "Iteration 9, loss = 1.00829853\n",
      "Iteration 10, loss = 0.99125351\n",
      "Iteration 11, loss = 0.96921527\n",
      "Iteration 12, loss = 0.95472863\n",
      "Iteration 13, loss = 0.93909130\n",
      "Iteration 14, loss = 0.92136626\n",
      "Iteration 15, loss = 0.91274631\n",
      "Iteration 16, loss = 0.90502633\n",
      "Iteration 17, loss = 0.89783118\n",
      "Iteration 18, loss = 0.88462467\n",
      "Iteration 19, loss = 0.87976436\n",
      "Iteration 20, loss = 0.86924390\n",
      "Iteration 21, loss = 0.86556059\n",
      "Iteration 22, loss = 0.85964927\n",
      "Iteration 23, loss = 0.85430439\n",
      "Iteration 24, loss = 0.85163293\n",
      "Iteration 25, loss = 0.84668954\n",
      "Iteration 26, loss = 0.84258527\n",
      "Iteration 27, loss = 0.83911124\n",
      "Iteration 28, loss = 0.83567696\n",
      "Iteration 29, loss = 0.83163857\n",
      "Iteration 30, loss = 0.83493606\n",
      "테스트 정확도: 46.43%\n",
      "Time: 0.997425s\n"
     ]
    },
    {
     "name": "stderr",
     "output_type": "stream",
     "text": [
      "C:\\Users\\jungs\\Anaconda3\\envs\\py36\\lib\\site-packages\\sklearn\\neural_network\\multilayer_perceptron.py:566: ConvergenceWarning: Stochastic Optimizer: Maximum iterations (30) reached and the optimization hasn't converged yet.\n",
      "  % self.max_iter, ConvergenceWarning)\n"
     ]
    }
   ],
   "source": [
    "start = time()\n",
    "model.fit(train_x, train_y)\n",
    "y_pred = model.predict(test_x)\n",
    "acc = accuracy_score(y_pred, test_y)\n",
    "end = time()\n",
    "print(\"테스트 정확도: {:.2f}%\".format(acc*100))\n",
    "print('Time: {:f}s'.format(end-start))"
   ]
  },
  {
   "cell_type": "code",
   "execution_count": null,
   "metadata": {},
   "outputs": [],
   "source": []
  }
 ],
 "metadata": {
  "accelerator": "GPU",
  "colab": {
   "collapsed_sections": [],
   "name": "5주차 과제.ipynb",
   "provenance": []
  },
  "kernelspec": {
   "display_name": "Python 3",
   "language": "python",
   "name": "python3"
  },
  "language_info": {
   "codemirror_mode": {
    "name": "ipython",
    "version": 3
   },
   "file_extension": ".py",
   "mimetype": "text/x-python",
   "name": "python",
   "nbconvert_exporter": "python",
   "pygments_lexer": "ipython3",
   "version": "3.6.9"
  }
 },
 "nbformat": 4,
 "nbformat_minor": 1
}
