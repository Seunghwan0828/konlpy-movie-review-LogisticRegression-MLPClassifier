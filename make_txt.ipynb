{
 "cells": [
  {
   "cell_type": "code",
   "execution_count": 1,
   "metadata": {},
   "outputs": [],
   "source": [
    "import csv\n",
    "sent = []\n",
    "def get_texts(data_path):\n",
    "    file = open(data_path, 'r',encoding='UTF-8')\n",
    "    data =file.readlines()\n",
    "    data_list = []\n",
    "    for sentence in data:\n",
    "        list_sentence1 = sentence.split('\\n')\n",
    "        for list_sentence2 in list_sentence1:\n",
    "            list_sentence = list_sentence2.replace('. ', '.   ...').replace('? ', '?   ...').replace('! ','!   ...').split('  ...')\n",
    "            for lines in list_sentence:\n",
    "                line = lines.strip()\n",
    "                data_list.append(line)\n",
    "    data_list1 = list(data_list)\n",
    "    for i in range(len(data_list)):\n",
    "        x = data_list1.count('')\n",
    "        for j in range(x):\n",
    "            data_list1.remove('')\n",
    "#     data_list1.pop()\n",
    "    texts = data_list1\n",
    "    return texts\n",
    "for i in range(1,4):\n",
    "    data_path = 'E:\\\\감정분석 데이터\\\\신나는 느낌.txt'\n",
    "    sent = sent + get_texts(data_path)\n",
    "# f = open(\"E:\\\\크롤링.txt\", 'w',encoding='UTF8')\n",
    "# for j in sent:\n",
    "#     data = \"%s\\n\" % j\n",
    "#     f.write(data)\n",
    "# f.close()\n",
    "f = open('E:\\\\감정분석 데이터\\\\신난다.tsv', 'w', encoding='utf-8', newline='')\n",
    "for j in sent:\n",
    "    wr = csv.writer(f, delimiter='\\t')\n",
    "    wr.writerow([\"%s\" %j])\n",
    "f.close()"
   ]
  },
  {
   "cell_type": "code",
   "execution_count": null,
   "metadata": {},
   "outputs": [],
   "source": []
  }
 ],
 "metadata": {
  "kernelspec": {
   "display_name": "Python 3",
   "language": "python",
   "name": "python3"
  },
  "language_info": {
   "codemirror_mode": {
    "name": "ipython",
    "version": 3
   },
   "file_extension": ".py",
   "mimetype": "text/x-python",
   "name": "python",
   "nbconvert_exporter": "python",
   "pygments_lexer": "ipython3",
   "version": "3.6.9"
  }
 },
 "nbformat": 4,
 "nbformat_minor": 2
}
